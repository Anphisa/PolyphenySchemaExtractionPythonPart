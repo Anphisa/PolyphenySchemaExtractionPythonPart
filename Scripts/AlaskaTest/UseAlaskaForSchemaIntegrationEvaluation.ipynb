{
 "cells": [
  {
   "cell_type": "markdown",
   "id": "62540e5b-358d-4d5d-9d9d-d5cb254152a8",
   "metadata": {},
   "source": [
    "# Bring Alaska data into format to be be used as schema integration benchmark\n",
    "Source: https://github.com/merialdo/research.alaska"
   ]
  },
  {
   "cell_type": "code",
   "execution_count": 14,
   "id": "69ad2bb3-20f8-47dc-99ae-b2ecbaa9967a",
   "metadata": {},
   "outputs": [],
   "source": [
    "import os\n",
    "import json\n",
    "import pandas as pd"
   ]
  },
  {
   "cell_type": "markdown",
   "id": "4586e93a-c667-4c4c-af2e-9db32d701677",
   "metadata": {},
   "source": [
    "## Read data from folders into dataframe"
   ]
  },
  {
   "cell_type": "code",
   "execution_count": 32,
   "id": "589f6d3f-6471-4a00-8831-7f0bb5f7ebbc",
   "metadata": {},
   "outputs": [
    {
     "name": "stdout",
     "output_type": "stream",
     "text": [
      " 0\n",
      "0\n",
      "buy.net 350\n",
      "350\n",
      "catalog.com 214\n",
      "214\n",
      "livehotdeals.com 116\n",
      "116\n",
      "ni.traetelo.com 100\n",
      "100\n",
      "shop.lenovo.com 338\n",
      "338\n",
      "wallmartphoto.com 196\n",
      "196\n",
      "www.alibaba.com 2404\n",
      "2404\n",
      "www.amazon.com 1173\n",
      "1173\n",
      "www.bhphotovideo.com 196\n",
      "196\n",
      "www.bidorbuy.co.za 157\n",
      "157\n",
      "www.directdial.com 157\n",
      "157\n",
      "www.ebay.com 8257\n",
      "8257\n",
      "www.flexshopper.com 1328\n",
      "1328\n",
      "www.gosale.com 173\n",
      "173\n",
      "www.hoh.de 110\n",
      "110\n",
      "www.isupplyhub.com 1026\n",
      "1026\n",
      "www.mygofer.com 159\n",
      "159\n",
      "www.overstock.com 116\n",
      "116\n",
      "www.pricequebec.com 515\n",
      "515\n",
      "www.softwarecity.ca 559\n",
      "559\n",
      "www.staples.com 136\n",
      "136\n",
      "www.techbuy.com.au 504\n",
      "504\n",
      "www.thenerds.net 300\n",
      "300\n",
      "www.tigerdirect.com 142\n",
      "142\n",
      "www.tinydeal.com 141\n",
      "141\n",
      "www.topendelectronic.co.uk 289\n",
      "289\n",
      "www.vology.com 4011\n",
      "4011\n"
     ]
    }
   ],
   "source": [
    "scenarios_folder = \".\\\\notebook.tar\\\\notebook\\\\notebook_specs\\\\\"\n",
    "subfolders = [x[0] for x in os.walk(scenarios_folder)]\n",
    "for folder in subfolders:\n",
    "    scenario_name = folder.split(\"\\\\\")[-1]\n",
    "    \n",
    "    json_files = [pos_json for pos_json in os.listdir(folder) if pos_json.endswith('.json')]\n",
    "    print(scenario_name, len(json_files))\n",
    "    \n",
    "    combined_results = []\n",
    "    for file in json_files:\n",
    "        f = open(folder + \"\\\\\" + file, 'r')\n",
    "        combined_results.append(json.load(f))\n",
    "    print(len(combined_results))\n",
    "\n",
    "    df_combined_results = pd.DataFrame(combined_results)\n",
    "    df_combined_results.to_csv(\".\\\\notebook.tar\\\\notebook\\\\notebook_combined\\\\\" + scenario_name + \".csv\")"
   ]
  },
  {
   "cell_type": "markdown",
   "id": "52d9fe2e-35cb-4305-8b8c-f6fa66cf6a29",
   "metadata": {},
   "source": [
    "## Create target schema\n",
    "### From schema matching ground truths, extract the column names that should be represented in a target schema"
   ]
  },
  {
   "cell_type": "code",
   "execution_count": 71,
   "id": "57a340e8-ff5c-433c-b575-1b6981ee465e",
   "metadata": {},
   "outputs": [
    {
     "name": "stderr",
     "output_type": "stream",
     "text": [
      "C:\\Users\\Phaina\\AppData\\Local\\Temp/ipykernel_10628/3228624261.py:3: FutureWarning: In a future version of pandas all arguments of StringMethods.split except for the argument 'pat' will be keyword-only.\n",
      "  gt[['source_file', 'source_column']] = gt['source_attribute_id'].str.split('//', 1, expand=True)\n"
     ]
    }
   ],
   "source": [
    "gt = pd.read_csv(\".\\\\notebook.tar\\\\notebook\\\\notebook_ground_truths\\\\notebook_schema_matching_gt.csv\")\n",
    "gt = gt.rename(columns={'target_attribute_name': 'target_column'})\n",
    "gt[['source_file', 'source_column']] = gt['source_attribute_id'].str.split('//', 1, expand=True)\n",
    "gt.drop(\"source_attribute_id\", axis=1, inplace=True)\n",
    "target_schema_columns = list(gt[\"target_column\"].unique())\n",
    "df_target_schema = pd.DataFrame(columns=target_schema_columns)\n",
    "df_target_schema.to_csv(\".\\\\notebook.tar\\\\notebook\\\\notebook_combined\\\\target_schema.csv\")"
   ]
  },
  {
   "cell_type": "code",
   "execution_count": 73,
   "id": "12d56fed-5f0f-49f7-91e5-3069e6a92623",
   "metadata": {},
   "outputs": [
    {
     "data": {
      "text/html": [
       "<div>\n",
       "<style scoped>\n",
       "    .dataframe tbody tr th:only-of-type {\n",
       "        vertical-align: middle;\n",
       "    }\n",
       "\n",
       "    .dataframe tbody tr th {\n",
       "        vertical-align: top;\n",
       "    }\n",
       "\n",
       "    .dataframe thead th {\n",
       "        text-align: right;\n",
       "    }\n",
       "</style>\n",
       "<table border=\"1\" class=\"dataframe\">\n",
       "  <thead>\n",
       "    <tr style=\"text-align: right;\">\n",
       "      <th></th>\n",
       "      <th>target_column</th>\n",
       "      <th>source_file</th>\n",
       "      <th>source_column</th>\n",
       "    </tr>\n",
       "  </thead>\n",
       "  <tbody>\n",
       "    <tr>\n",
       "      <th>0</th>\n",
       "      <td>is_cpu_64bit</td>\n",
       "      <td>buy.net</td>\n",
       "      <td>64bit processing</td>\n",
       "    </tr>\n",
       "    <tr>\n",
       "      <th>1</th>\n",
       "      <td>aspect_ratio</td>\n",
       "      <td>buy.net</td>\n",
       "      <td>aspect ratio</td>\n",
       "    </tr>\n",
       "    <tr>\n",
       "      <th>2</th>\n",
       "      <td>battery_life</td>\n",
       "      <td>buy.net</td>\n",
       "      <td>battery life</td>\n",
       "    </tr>\n",
       "    <tr>\n",
       "      <th>3</th>\n",
       "      <td>brand</td>\n",
       "      <td>buy.net</td>\n",
       "      <td>brand name</td>\n",
       "    </tr>\n",
       "    <tr>\n",
       "      <th>4</th>\n",
       "      <td>cpu_cache</td>\n",
       "      <td>buy.net</td>\n",
       "      <td>cache size</td>\n",
       "    </tr>\n",
       "    <tr>\n",
       "      <th>...</th>\n",
       "      <td>...</td>\n",
       "      <td>...</td>\n",
       "      <td>...</td>\n",
       "    </tr>\n",
       "    <tr>\n",
       "      <th>1624</th>\n",
       "      <td>battery_chemistry</td>\n",
       "      <td>www.vology.com</td>\n",
       "      <td>technology</td>\n",
       "    </tr>\n",
       "    <tr>\n",
       "      <th>1625</th>\n",
       "      <td>gpu_brand</td>\n",
       "      <td>www.vology.com</td>\n",
       "      <td>video system features</td>\n",
       "    </tr>\n",
       "    <tr>\n",
       "      <th>1626</th>\n",
       "      <td>weight</td>\n",
       "      <td>www.vology.com</td>\n",
       "      <td>weight</td>\n",
       "    </tr>\n",
       "    <tr>\n",
       "      <th>1627</th>\n",
       "      <td>dimensions_width</td>\n",
       "      <td>www.vology.com</td>\n",
       "      <td>width</td>\n",
       "    </tr>\n",
       "    <tr>\n",
       "      <th>1628</th>\n",
       "      <td>dimensions</td>\n",
       "      <td>www.vology.com</td>\n",
       "      <td>width</td>\n",
       "    </tr>\n",
       "  </tbody>\n",
       "</table>\n",
       "<p>1629 rows × 3 columns</p>\n",
       "</div>"
      ],
      "text/plain": [
       "          target_column     source_file          source_column\n",
       "0          is_cpu_64bit         buy.net       64bit processing\n",
       "1          aspect_ratio         buy.net           aspect ratio\n",
       "2          battery_life         buy.net           battery life\n",
       "3                 brand         buy.net             brand name\n",
       "4             cpu_cache         buy.net             cache size\n",
       "...                 ...             ...                    ...\n",
       "1624  battery_chemistry  www.vology.com             technology\n",
       "1625          gpu_brand  www.vology.com  video system features\n",
       "1626             weight  www.vology.com                 weight\n",
       "1627   dimensions_width  www.vology.com                  width\n",
       "1628         dimensions  www.vology.com                  width\n",
       "\n",
       "[1629 rows x 3 columns]"
      ]
     },
     "execution_count": 73,
     "metadata": {},
     "output_type": "execute_result"
    }
   ],
   "source": [
    "gt[[\"source_file\"]]"
   ]
  },
  {
   "cell_type": "code",
   "execution_count": null,
   "id": "f930e18a-e142-4619-acbf-216d41c5f7fa",
   "metadata": {},
   "outputs": [],
   "source": []
  }
 ],
 "metadata": {
  "kernelspec": {
   "display_name": "Python 3 (ipykernel)",
   "language": "python",
   "name": "python3"
  },
  "language_info": {
   "codemirror_mode": {
    "name": "ipython",
    "version": 3
   },
   "file_extension": ".py",
   "mimetype": "text/x-python",
   "name": "python",
   "nbconvert_exporter": "python",
   "pygments_lexer": "ipython3",
   "version": "3.8.12"
  }
 },
 "nbformat": 4,
 "nbformat_minor": 5
}
